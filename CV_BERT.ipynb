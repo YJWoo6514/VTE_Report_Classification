{
  "cells": [
    {
      "cell_type": "code",
      "execution_count": null,
      "id": "sZXMwIYaPliJ",
      "metadata": {
        "execution": {
          "iopub.execute_input": "2022-09-29T00:13:36.335310Z",
          "iopub.status.busy": "2022-09-29T00:13:36.334502Z",
          "iopub.status.idle": "2022-09-29T00:13:40.095233Z",
          "shell.execute_reply": "2022-09-29T00:13:40.094016Z",
          "shell.execute_reply.started": "2022-09-29T00:13:36.335163Z"
        },
        "id": "sZXMwIYaPliJ"
      },
      "outputs": [],
      "source": [
        "# install transfomers library if you need\n",
        "!pip install transformers"
      ]
    },
    {
      "cell_type": "code",
      "execution_count": 19,
      "id": "d5ba7b33",
      "metadata": {
        "execution": {
          "iopub.execute_input": "2022-09-29T00:13:40.098162Z",
          "iopub.status.busy": "2022-09-29T00:13:40.097626Z",
          "iopub.status.idle": "2022-09-29T00:13:45.841698Z",
          "shell.execute_reply": "2022-09-29T00:13:45.840928Z",
          "shell.execute_reply.started": "2022-09-29T00:13:40.098115Z"
        },
        "id": "d5ba7b33",
        "tags": []
      },
      "outputs": [],
      "source": [
        "# import required libraries\n",
        "import os\n",
        "import re\n",
        "import numpy as np\n",
        "from tqdm import tqdm\n",
        "\n",
        "import tensorflow as tf\n",
        "from tensorflow import keras\n",
        "from transformers import *\n",
        "\n",
        "from tensorflow.keras.preprocessing.sequence import pad_sequences\n",
        "from tensorflow.keras.callbacks import EarlyStopping, ModelCheckpoint\n",
        "from sklearn.model_selection import train_test_split\n",
        "\n",
        "import pandas as pd\n",
        "import matplotlib.pyplot as plt\n",
        "from sklearn.metrics import confusion_matrix\n",
        "from sklearn.metrics import f1_score\n",
        "\n",
        "from sklearn.model_selection import KFold\n",
        "from sklearn.model_selection import cross_val_score\n",
        "\n",
        "import gc\n",
        "from tensorflow.keras.models import Model\n",
        "from keras.models import load_model"
      ]
    },
    {
      "cell_type": "code",
      "execution_count": 5,
      "id": "c696568c",
      "metadata": {
        "execution": {
          "iopub.execute_input": "2022-09-29T00:13:45.843228Z",
          "iopub.status.busy": "2022-09-29T00:13:45.842708Z",
          "iopub.status.idle": "2022-09-29T00:13:45.848663Z",
          "shell.execute_reply": "2022-09-29T00:13:45.848010Z",
          "shell.execute_reply.started": "2022-09-29T00:13:45.843200Z"
        },
        "id": "c696568c"
      },
      "outputs": [],
      "source": [
        "# For visualization\n",
        "\n",
        "def plot_graphs(history, string):\n",
        "    plt.plot(history.history[string])\n",
        "    plt.plot(history.history['val_'+string], '')\n",
        "    plt.xlabel(\"Epochs\")\n",
        "    plt.ylabel(string)\n",
        "    plt.legend([string, 'val_'+string])\n",
        "    plt.show()"
      ]
    },
    {
      "cell_type": "code",
      "execution_count": 68,
      "id": "8d2f966d",
      "metadata": {
        "execution": {
          "iopub.execute_input": "2022-09-29T00:13:45.850862Z",
          "iopub.status.busy": "2022-09-29T00:13:45.850235Z",
          "iopub.status.idle": "2022-09-29T00:13:45.857188Z",
          "shell.execute_reply": "2022-09-29T00:13:45.856268Z",
          "shell.execute_reply.started": "2022-09-29T00:13:45.850813Z"
        },
        "id": "8d2f966d"
      },
      "outputs": [],
      "source": [
        "#random seed\n",
        "tf.random.set_seed(1234)\n",
        "np.random.seed(1234)\n",
        "\n",
        "BATCH_SIZE = 32\n",
        "NUM_EPOCHS = 50\n",
        "VALID_SPLIT = 0.2\n",
        "MAX_LEN = 237 # EDA에서 추출된 Max Length\n",
        "DATA_IN_PATH = '/home/jovyan/Desktop'\n",
        "DATA_OUT_PATH = \"/home/jovyan/data_out\""
      ]
    },
    {
      "cell_type": "code",
      "execution_count": null,
      "id": "995385cf",
      "metadata": {
        "execution": {
          "iopub.execute_input": "2022-09-29T00:13:45.859706Z",
          "iopub.status.busy": "2022-09-29T00:13:45.859274Z",
          "iopub.status.idle": "2022-09-29T00:13:50.066516Z",
          "shell.execute_reply": "2022-09-29T00:13:50.064898Z",
          "shell.execute_reply.started": "2022-09-29T00:13:45.859670Z"
        },
        "id": "995385cf"
      },
      "outputs": [],
      "source": [
        "tokenizer = BertTokenizer.from_pretrained(\"bert-base-multilingual-uncased\", cache_dir='bert_ckpt', do_lower_case=False, truncation=True)"
      ]
    },
    {
      "cell_type": "code",
      "source": [
        "# file load from google colab\n",
        "from google.colab import drive\n",
        "drive.mount('/content/drive')"
      ],
      "metadata": {
        "id": "ZXrySaMfdLI7"
      },
      "id": "ZXrySaMfdLI7",
      "execution_count": null,
      "outputs": []
    },
    {
      "cell_type": "code",
      "source": [
        "data = pd.read_csv(\"YOUR FILE NAME\", encoding='cp949')"
      ],
      "metadata": {
        "id": "5pLPG3ADdSPN"
      },
      "id": "5pLPG3ADdSPN",
      "execution_count": 70,
      "outputs": []
    },
    {
      "cell_type": "code",
      "execution_count": null,
      "id": "91d99d46-f67d-478d-a513-f3960ceb9464",
      "metadata": {
        "execution": {
          "iopub.execute_input": "2022-09-29T00:13:50.274226Z",
          "iopub.status.busy": "2022-09-29T00:13:50.273872Z",
          "iopub.status.idle": "2022-09-29T00:14:31.318796Z",
          "shell.execute_reply": "2022-09-29T00:14:31.317454Z",
          "shell.execute_reply.started": "2022-09-29T00:13:50.274198Z"
        },
        "tags": [],
        "id": "91d99d46-f67d-478d-a513-f3960ceb9464"
      },
      "outputs": [],
      "source": [
        "import nltk\n",
        "from nltk.tokenize import RegexpTokenizer\n",
        "from nltk.stem import WordNetLemmatizer,PorterStemmer\n",
        "from nltk.corpus import stopwords\n",
        "import re\n",
        "nltk.download('stopwords')\n",
        "nltk.download('wordnet')\n",
        "nltk.download('omw-1.4')\n",
        "lemmatizer = WordNetLemmatizer()\n",
        "stemmer = PorterStemmer()\n",
        "\n",
        "def preprocess(sentence):\n",
        "    sentence=str(sentence)\n",
        "    korean = re.compile('[\\u3131-\\u3163\\uac00-\\ud7a3]+')\n",
        "    sentence = re.sub(korean, '', sentence)\n",
        "    sentence = sentence.lower()\n",
        "    sentence=sentence.replace('{html}',\"\")\n",
        "    cleanr = re.compile('=#$-+<.*?>')\n",
        "    cleantext = re.sub(cleanr, '', sentence)\n",
        "    rem_url=re.sub(r'http\\S+', '',cleantext)\n",
        "    rem_num = re.sub('[0-9]+', '', rem_url)\n",
        "    tokenizer = RegexpTokenizer(r'\\w+')\n",
        "    tokens = tokenizer.tokenize(rem_num)\n",
        "    filtered_words = [w for w in tokens if len(w) > 2 if not w in stopwords.words('english')]\n",
        "    stem_words=[stemmer.stem(w) for w in filtered_words]\n",
        "    lemma_words=[lemmatizer.lemmatize(w) for w in stem_words]\n",
        "    return \" \".join(filtered_words)\n",
        "\n",
        "data['IMG_RSLT']=data['IMG_RSLT'].map(lambda s:preprocess(s))"
      ]
    },
    {
      "cell_type": "code",
      "execution_count": null,
      "id": "oHdpGCB1WZQL",
      "metadata": {
        "execution": {
          "iopub.execute_input": "2022-09-29T00:14:31.320926Z",
          "iopub.status.busy": "2022-09-29T00:14:31.320370Z",
          "iopub.status.idle": "2022-09-29T00:14:31.591216Z",
          "shell.execute_reply": "2022-09-29T00:14:31.590513Z",
          "shell.execute_reply.started": "2022-09-29T00:14:31.320881Z"
        },
        "id": "oHdpGCB1WZQL",
        "tags": []
      },
      "outputs": [],
      "source": [
        "data['DVT 부위'] = data['DVT 부위'].replace(\"distal\",0)\n",
        "data['DVT 부위'] = data['DVT 부위'].replace(\"proximal\",1)\n",
        "data['DVT 부위'] = data['DVT 부위'].replace(\"DVT&PTE\",2)\n",
        "data['DVT 부위'] = data['DVT 부위'].replace(\"other\",3)\n",
        "data['DVT 부위'] = data['DVT 부위'].replace(\"PTE\",4)\n",
        "data['DVT 부위'] = data['DVT 부위'].replace(\"thrombophlebitis\",5)\n",
        "\n",
        "# Assign X and y after cleaning and replacement\n",
        "X = data['IMG_RSLT']\n",
        "y = data['DVT 부위']\n",
        "\n",
        "# Check for any remaining null values in the target variable\n",
        "print(\"Null values in 'DVT 부위' after cleaning:\", y.isnull().sum())"
      ]
    },
    {
      "cell_type": "code",
      "execution_count": 77,
      "id": "884b785e",
      "metadata": {
        "execution": {
          "iopub.execute_input": "2022-09-29T00:14:31.592658Z",
          "iopub.status.busy": "2022-09-29T00:14:31.592115Z",
          "iopub.status.idle": "2022-09-29T00:14:31.597185Z",
          "shell.execute_reply": "2022-09-29T00:14:31.596453Z",
          "shell.execute_reply.started": "2022-09-29T00:14:31.592630Z"
        },
        "id": "884b785e",
        "tags": []
      },
      "outputs": [],
      "source": [
        "# Bert Tokenizer\n",
        "\n",
        "# Refer: https://huggingface.co/transformers/main_classes/tokenizer.html?highlight=encode_plus#transformers.PreTrainedTokenizer.encode_plus\n",
        "\n",
        "def bert_tokenizer(sent, MAX_LEN):\n",
        "\n",
        "    encoded_dict = tokenizer.encode_plus(\n",
        "        text = sent,\n",
        "        add_special_tokens = True, # Add '[CLS]' and '[SEP]'\n",
        "        max_length = MAX_LEN,           # Pad & truncate all sentences.\n",
        "        padding = 'max_length', # Use padding='max_length'\n",
        "        truncation = True, # Ensure truncation is explicitly set\n",
        "        return_attention_mask = True   # Construct attn. masks.\n",
        "\n",
        "    )\n",
        "\n",
        "    input_id = encoded_dict['input_ids']\n",
        "    attention_mask = encoded_dict['attention_mask'] # And its attention mask (simply differentiates padding from non-padding).\n",
        "    token_type_id = encoded_dict['token_type_ids'] # differentiate two sentences\n",
        "\n",
        "    return input_id, attention_mask, token_type_id"
      ]
    },
    {
      "cell_type": "code",
      "execution_count": null,
      "id": "01345e19",
      "metadata": {
        "execution": {
          "iopub.execute_input": "2022-09-29T00:14:31.611464Z",
          "iopub.status.busy": "2022-09-29T00:14:31.611158Z",
          "iopub.status.idle": "2022-09-29T00:14:35.750038Z",
          "shell.execute_reply": "2022-09-29T00:14:35.749146Z",
          "shell.execute_reply.started": "2022-09-29T00:14:31.611439Z"
        },
        "id": "01345e19",
        "collapsed": true
      },
      "outputs": [],
      "source": [
        "class TFBertClassifier(tf.keras.Model):\n",
        "    def __init__(self, model_name, dir_path, num_class):\n",
        "        super(TFBertClassifier, self).__init__()\n",
        "\n",
        "        self.bert = TFBertModel.from_pretrained(model_name, cache_dir=dir_path)\n",
        "        self.dropout = tf.keras.layers.Dropout(self.bert.config.hidden_dropout_prob)\n",
        "        self.classifier = tf.keras.layers.Dense(num_class,\n",
        "                                                kernel_initializer=tf.keras.initializers.TruncatedNormal(self.bert.config.initializer_range),\n",
        "                                                name=\"classifier\")\n",
        "\n",
        "    def call(self, inputs, attention_mask=None, token_type_ids=None, training=False):\n",
        "\n",
        "        #outputs 값: # sequence_output, pooled_output, (hidden_states), (attentions)\n",
        "        outputs = self.bert(inputs, attention_mask=attention_mask, token_type_ids=token_type_ids)\n",
        "        pooled_output = outputs[1]\n",
        "        pooled_output = self.dropout(pooled_output, training=training)\n",
        "        logits = self.classifier(pooled_output)\n",
        "\n",
        "        return logits\n",
        "\n",
        "cls_model = TFBertClassifier(model_name='bert-base-multilingual-uncased',\n",
        "                                  dir_path='bert_ckpt',\n",
        "                                  num_class=6)"
      ]
    },
    {
      "cell_type": "code",
      "execution_count": 79,
      "id": "342eddef",
      "metadata": {
        "execution": {
          "iopub.execute_input": "2022-09-29T00:14:35.751845Z",
          "iopub.status.busy": "2022-09-29T00:14:35.751451Z",
          "iopub.status.idle": "2022-09-29T00:14:42.043177Z",
          "shell.execute_reply": "2022-09-29T00:14:42.042128Z",
          "shell.execute_reply.started": "2022-09-29T00:14:35.751815Z"
        },
        "id": "342eddef",
        "tags": []
      },
      "outputs": [],
      "source": [
        "# Model Building\n",
        "optimizer = tf.keras.optimizers.Adam(3e-5)\n",
        "loss = tf.keras.losses.SparseCategoricalCrossentropy(from_logits=True)\n",
        "metric = tf.keras.metrics.SparseCategoricalAccuracy('accuracy')\n",
        "cls_model.compile(optimizer=optimizer, loss=loss, metrics=[metric])\n"
      ]
    },
    {
      "cell_type": "code",
      "execution_count": 80,
      "id": "a939d50f-1c77-48ff-a6f6-fd50c478d6f1",
      "metadata": {
        "execution": {
          "iopub.execute_input": "2022-09-29T00:14:42.045144Z",
          "iopub.status.busy": "2022-09-29T00:14:42.044606Z",
          "iopub.status.idle": "2022-09-29T00:14:42.049767Z",
          "shell.execute_reply": "2022-09-29T00:14:42.048855Z",
          "shell.execute_reply.started": "2022-09-29T00:14:42.045101Z"
        },
        "tags": [],
        "id": "a939d50f-1c77-48ff-a6f6-fd50c478d6f1"
      },
      "outputs": [],
      "source": [
        "# Preparing cross validation (k=5)\n",
        "kfold = KFold(n_splits=5)\n",
        "scores=[]"
      ]
    },
    {
      "cell_type": "code",
      "execution_count": null,
      "id": "b414ad79-f4e9-4c53-ae04-c6f6bddc73ee",
      "metadata": {
        "execution": {
          "iopub.execute_input": "2022-09-29T00:14:42.051231Z",
          "iopub.status.busy": "2022-09-29T00:14:42.050839Z",
          "iopub.status.idle": "2022-09-29T13:49:50.142231Z",
          "shell.execute_reply": "2022-09-29T13:49:50.141422Z",
          "shell.execute_reply.started": "2022-09-29T00:14:42.051201Z"
        },
        "tags": [],
        "id": "b414ad79-f4e9-4c53-ae04-c6f6bddc73ee"
      },
      "outputs": [],
      "source": [
        "model_itr = 0\n",
        "\n",
        "for train_idx, test_idx in kfold.split(X):\n",
        "    X_train, X_test = X.iloc[train_idx], X.iloc[test_idx]\n",
        "    y_train, y_test = y.iloc[train_idx], y.iloc[test_idx]\n",
        "\n",
        "    #keras.backend.clear_session()\n",
        "\n",
        "    #input data\n",
        "    train_input_ids = []\n",
        "    train_attention_masks = []\n",
        "    train_token_type_ids = []\n",
        "    train_data_labels = []\n",
        "\n",
        "\n",
        "    for train_sent, train_label in tqdm(zip(X_train, y_train), total=len(X_train)):\n",
        "        try:\n",
        "            input_id, attention_mask, token_type_id = bert_tokenizer(train_sent, MAX_LEN)\n",
        "\n",
        "            train_input_ids.append(input_id)\n",
        "            train_attention_masks.append(attention_mask)\n",
        "            train_token_type_ids.append(token_type_id)\n",
        "            train_data_labels.append(train_label)\n",
        "\n",
        "        except Exception as e:\n",
        "            print(f\"Error tokenizing sentence: {train_sent}\")\n",
        "            print(e)\n",
        "            # Append placeholders to maintain consistent list lengths\n",
        "            train_input_ids.append([0] * MAX_LEN)\n",
        "            train_attention_masks.append([0] * MAX_LEN)\n",
        "            train_token_type_ids.append([0] * MAX_LEN)\n",
        "            train_data_labels.append(-1) # Use a placeholder label or decide how to handle\n",
        "\n",
        "    train_input_ids = np.array(train_input_ids, dtype=int)\n",
        "    train_attention_masks = np.array(train_attention_masks, dtype=int)\n",
        "    train_type_ids = np.array(train_token_type_ids, dtype=int)\n",
        "    train_inputs = (train_input_ids, train_attention_masks, train_type_ids)\n",
        "\n",
        "    # Filter out placeholder labels if necessary, or handle them in the loss function\n",
        "    # For now, let's assume we remove them for training\n",
        "    valid_indices = [i for i, label in enumerate(train_data_labels) if label != -1]\n",
        "    train_inputs = (train_input_ids[valid_indices], train_attention_masks[valid_indices], train_type_ids[valid_indices])\n",
        "    train_data_labels = np.asarray([train_data_labels[i] for i in valid_indices], dtype=np.int64)\n",
        "\n",
        "    model_itr += 1\n",
        "    model_name = \"tf2_bert_dvt__multi\" + str(model_itr)\n",
        "\n",
        "    # ealrystop\n",
        "    earlystop_callback = EarlyStopping(monitor='val_accuracy', min_delta=0.0001,patience=5)\n",
        "    # min_delta: the threshold that triggers the termination (acc should at least improve 0.0001)\n",
        "    # patience: no improvment epochs (patience = 1, 1번 이상 상승이 없으면 종료)\\\n",
        "\n",
        "    checkpoint_path = os.path.join(DATA_OUT_PATH, model_name, 'weights.h5')\n",
        "    checkpoint_dir = os.path.dirname(checkpoint_path)\n",
        "\n",
        "    # Create path if exists\n",
        "    if os.path.exists(checkpoint_dir):\n",
        "        print(\"{} -- Folder already exists \\n\".format(checkpoint_dir))\n",
        "    else:\n",
        "        os.makedirs(checkpoint_dir, exist_ok=True)\n",
        "        print(\"{} -- Folder create complete \\n\".format(checkpoint_dir))\n",
        "\n",
        "    cp_callback = ModelCheckpoint(\n",
        "        filepath=checkpoint_path, monitor='val_accuracy', verbose=1, save_best_only=True, save_weights_only=False)\n",
        "\n",
        "\n",
        "    # Learning and evaluation\n",
        "    history = cls_model.fit(train_inputs, train_data_labels, epochs=NUM_EPOCHS, batch_size=BATCH_SIZE,\n",
        "                        validation_split = VALID_SPLIT, callbacks=[earlystop_callback, cp_callback])\n",
        "\n",
        "    plot_graphs(history, 'loss')\n",
        "\n",
        "    #output data\n",
        "    test_input_ids = []\n",
        "    test_attention_masks = []\n",
        "    test_token_type_ids = []\n",
        "    test_data_labels = []\n",
        "\n",
        "    for test_sent, test_label in tqdm(zip(X_test, y_test)):\n",
        "        try:\n",
        "            input_id, attention_mask, token_type_id = bert_tokenizer(test_sent, MAX_LEN)\n",
        "\n",
        "            test_input_ids.append(input_id)\n",
        "            test_attention_masks.append(attention_mask)\n",
        "            test_token_type_ids.append(token_type_id)\n",
        "            test_data_labels.append(test_label)\n",
        "        except Exception as e:\n",
        "            print(f\"Error tokenizing sentence: {test_sent}\")\n",
        "            print(e)\n",
        "            # Append placeholders to maintain consistent list lengths\n",
        "            test_input_ids.append([0] * MAX_LEN)\n",
        "            test_attention_masks.append([0] * MAX_LEN)\n",
        "            test_token_type_ids.append([0] * MAX_LEN)\n",
        "            test_data_labels.append(-1) # Use a placeholder label or decide how to handle\n",
        "\n",
        "\n",
        "    test_input_ids = np.array(test_input_ids, dtype=int)\n",
        "    test_attention_masks = np.array(test_attention_masks, dtype=int)\n",
        "    test_type_ids = np.array(test_token_type_ids, dtype=int)\n",
        "    test_inputs = (test_input_ids, test_attention_masks, test_type_ids)\n",
        "\n",
        "    # Filter out placeholder labels if necessary\n",
        "    valid_indices = [i for i, label in enumerate(test_data_labels) if label != -1]\n",
        "    test_inputs = (test_input_ids[valid_indices], test_attention_masks[valid_indices], test_type_ids[valid_indices])\n",
        "    test_data_labels = np.asarray([test_data_labels[i] for i in valid_indices], dtype=np.int32)\n",
        "\n",
        "\n",
        "    results = cls_model.evaluate(test_inputs, test_data_labels, batch_size=1024)\n",
        "    print(\"test loss, test acc: \", results)\n",
        "\n",
        "    print(\"num sents, labels {}, {}\".format(len(test_input_ids), len(test_data_labels)))\n",
        "\n",
        "    y_pred = cls_model.predict(test_inputs)\n",
        "    y_pred_arg = np.argmax(y_pred, axis=1)\n",
        "    score = f1_score(test_data_labels, y_pred_arg, average='micro')\n",
        "    scores.append(score)"
      ]
    },
    {
      "cell_type": "code",
      "execution_count": null,
      "id": "44d86523-e3a1-436a-9a7b-09aaf4fe531f",
      "metadata": {
        "execution": {
          "iopub.execute_input": "2022-09-29T13:49:50.143789Z",
          "iopub.status.busy": "2022-09-29T13:49:50.143394Z",
          "iopub.status.idle": "2022-09-29T13:49:50.150531Z",
          "shell.execute_reply": "2022-09-29T13:49:50.149836Z",
          "shell.execute_reply.started": "2022-09-29T13:49:50.143756Z"
        },
        "tags": [],
        "id": "44d86523-e3a1-436a-9a7b-09aaf4fe531f"
      },
      "outputs": [],
      "source": [
        "confusion_matrix(test_data_labels, y_pred_arg)"
      ]
    },
    {
      "cell_type": "code",
      "execution_count": null,
      "id": "987d06d4-cd88-433d-861f-8394211a8d9d",
      "metadata": {
        "execution": {
          "iopub.execute_input": "2022-09-29T13:49:50.151867Z",
          "iopub.status.busy": "2022-09-29T13:49:50.151451Z",
          "iopub.status.idle": "2022-09-29T13:49:50.155813Z",
          "shell.execute_reply": "2022-09-29T13:49:50.154989Z",
          "shell.execute_reply.started": "2022-09-29T13:49:50.151837Z"
        },
        "tags": [],
        "id": "987d06d4-cd88-433d-861f-8394211a8d9d"
      },
      "outputs": [],
      "source": [
        "print(scores)"
      ]
    },
    {
      "cell_type": "code",
      "execution_count": null,
      "id": "541a6365-8e3f-4f23-a795-33773b633650",
      "metadata": {
        "execution": {
          "iopub.execute_input": "2022-09-29T13:49:50.157144Z",
          "iopub.status.busy": "2022-09-29T13:49:50.156739Z",
          "iopub.status.idle": "2022-09-29T13:49:50.161473Z",
          "shell.execute_reply": "2022-09-29T13:49:50.160674Z",
          "shell.execute_reply.started": "2022-09-29T13:49:50.157113Z"
        },
        "tags": [],
        "id": "541a6365-8e3f-4f23-a795-33773b633650"
      },
      "outputs": [],
      "source": [
        "print(\"average f1 score: \",np.mean(scores))"
      ]
    }
  ],
  "metadata": {
    "accelerator": "GPU",
    "colab": {
      "provenance": []
    },
    "gpuClass": "standard",
    "kernelspec": {
      "display_name": "tf2.8.0-keras2.8.0-py3.9-cuda11.6",
      "language": "python",
      "name": "tf2.8.0-keras2.8.0-py3.9-cuda11.6"
    },
    "language_info": {
      "codemirror_mode": {
        "name": "ipython",
        "version": 3
      },
      "file_extension": ".py",
      "mimetype": "text/x-python",
      "name": "python",
      "nbconvert_exporter": "python",
      "pygments_lexer": "ipython3",
      "version": "3.9.5"
    }
  },
  "nbformat": 4,
  "nbformat_minor": 5
}